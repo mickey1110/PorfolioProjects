{
  "nbformat": 4,
  "nbformat_minor": 0,
  "metadata": {
    "colab": {
      "provenance": [],
      "authorship_tag": "ABX9TyNqj3zeiUzl3PZUiutlAaiL",
      "include_colab_link": true
    },
    "kernelspec": {
      "name": "python3",
      "display_name": "Python 3"
    },
    "language_info": {
      "name": "python"
    }
  },
  "cells": [
    {
      "cell_type": "markdown",
      "metadata": {
        "id": "view-in-github",
        "colab_type": "text"
      },
      "source": [
        "<a href=\"https://colab.research.google.com/github/mickey1110/PorfolioProjects/blob/main/BMI%20Calculator.ipynb\" target=\"_parent\"><img src=\"https://colab.research.google.com/assets/colab-badge.svg\" alt=\"Open In Colab\"/></a>"
      ]
    },
    {
      "cell_type": "code",
      "execution_count": 22,
      "metadata": {
        "colab": {
          "base_uri": "https://localhost:8080/"
        },
        "id": "5qpjY_NVD3qP",
        "outputId": "17816cbe-40fe-45c8-df3c-b27b424145fc"
      },
      "outputs": [
        {
          "output_type": "stream",
          "name": "stdout",
          "text": [
            "Enter your age: 60\n",
            "Enter your weight in Kgms: 150\n",
            "Enter your height in cms: 175\n",
            "you are in a category of Obese Class I,II,III\n",
            "48.97959183673469\n"
          ]
        }
      ],
      "source": [
        "#BMI = 70 / ((175 / 100)^2) = 70 / (1.75^2) = 70 / 3.0625 ≈ 22.857\n",
        "#Classification\tBMI\tBMI Prime\n",
        "#Severe Thinness\t< 16\t< 0.64\n",
        "#Moderate Thinness\t16 - 17\t0.64 - 0.68\n",
        "#Mild Thinness\t17 - 18.5\t0.68 - 0.74\n",
        "#Normal\t18.5 - 25\t0.74 - 1\n",
        "#Overweight\t25 - 30\t1 - 1.2\n",
        "#Obese Class I\t30 - 35\t1.2- 1.4\n",
        "#Obese Class II\t35 - 40\t1.4 - 1.6\n",
        "#Obese Class III\t> 40\t> 1.6\n",
        "\n",
        "a = int(input(\"Enter your age: \"))\n",
        "w = float(input(\"Enter your weight in Kgms: \"))\n",
        "h = float(input(\"Enter your height in cms: \"))\n",
        "\n",
        "bmi = (w * 10000 / (h * h))\n",
        "\n",
        "\n",
        "\n",
        "if bmi>0:\n",
        "  if (bmi<=16):\n",
        "    print(\"you have a severe thinness\")\n",
        "  elif(bmi<=17):\n",
        "    print(\"you have a moderate thinness\")\n",
        "  elif (bmi<=18.5):\n",
        "    print(\"you have a mild thinness\")\n",
        "  elif (bmi<25):\n",
        "    print(\"you have a normal weight\")\n",
        "  elif (bmi<30):\n",
        "    print(\"you are overweight\")\n",
        "  elif (bmi>31):\n",
        "    print(\"you are in a category of Obese Class I,II,III\")\n",
        "else:\n",
        "  print(\"enter a valid number: \")\n",
        "\n",
        "print(bmi)"
      ]
    },
    {
      "cell_type": "code",
      "source": [],
      "metadata": {
        "id": "K1XLsP2uR5WH"
      },
      "execution_count": null,
      "outputs": []
    }
  ]
}