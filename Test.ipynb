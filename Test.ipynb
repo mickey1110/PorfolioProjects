{
  "nbformat": 4,
  "nbformat_minor": 0,
  "metadata": {
    "colab": {
      "provenance": [],
      "authorship_tag": "ABX9TyOD9d1Sr4zum7YQTvKby6mp",
      "include_colab_link": true
    },
    "kernelspec": {
      "name": "python3",
      "display_name": "Python 3"
    },
    "language_info": {
      "name": "python"
    }
  },
  "cells": [
    {
      "cell_type": "markdown",
      "metadata": {
        "id": "view-in-github",
        "colab_type": "text"
      },
      "source": [
        "<a href=\"https://colab.research.google.com/github/mickey1110/PorfolioProjects/blob/main/Test.ipynb\" target=\"_parent\"><img src=\"https://colab.research.google.com/assets/colab-badge.svg\" alt=\"Open In Colab\"/></a>"
      ]
    },
    {
      "cell_type": "code",
      "execution_count": 1,
      "metadata": {
        "colab": {
          "base_uri": "https://localhost:8080/"
        },
        "id": "V8Ujrsi4ybUm",
        "outputId": "524f4608-2ebb-4130-e95c-b53bd8a5cd7f"
      },
      "outputs": [
        {
          "output_type": "stream",
          "name": "stdout",
          "text": [
            "5\n"
          ]
        }
      ],
      "source": [
        "x=5\n",
        "print(x)"
      ]
    },
    {
      "cell_type": "code",
      "source": [
        "type(x)"
      ],
      "metadata": {
        "colab": {
          "base_uri": "https://localhost:8080/"
        },
        "id": "L0cA3ArJ-xex",
        "outputId": "698e0d75-2089-4378-a162-7b8b013bb656"
      },
      "execution_count": 2,
      "outputs": [
        {
          "output_type": "execute_result",
          "data": {
            "text/plain": [
              "int"
            ]
          },
          "metadata": {},
          "execution_count": 2
        }
      ]
    },
    {
      "cell_type": "code",
      "source": [
        "x=7\n",
        "y=8\n",
        "z=x\n",
        "print(z)"
      ],
      "metadata": {
        "colab": {
          "base_uri": "https://localhost:8080/"
        },
        "id": "u0A9Tdbp-4xZ",
        "outputId": "7768ead3-bc4e-4bea-de20-40df8ae62e9c"
      },
      "execution_count": 3,
      "outputs": [
        {
          "output_type": "stream",
          "name": "stdout",
          "text": [
            "7\n"
          ]
        }
      ]
    },
    {
      "cell_type": "code",
      "source": [
        "x==y"
      ],
      "metadata": {
        "colab": {
          "base_uri": "https://localhost:8080/"
        },
        "id": "RmqQx0Xj_wxN",
        "outputId": "71af5eac-f253-43d0-f1a7-06fdf492f426"
      },
      "execution_count": 4,
      "outputs": [
        {
          "output_type": "execute_result",
          "data": {
            "text/plain": [
              "False"
            ]
          },
          "metadata": {},
          "execution_count": 4
        }
      ]
    },
    {
      "cell_type": "code",
      "source": [
        "x=\"I am Anim\"\n",
        "y=2*x\n",
        "print(y)"
      ],
      "metadata": {
        "colab": {
          "base_uri": "https://localhost:8080/"
        },
        "id": "Ohs3YCWE_0al",
        "outputId": "fae7fbb8-e6d9-4552-bdda-f7d31deaf2a2"
      },
      "execution_count": 5,
      "outputs": [
        {
          "output_type": "stream",
          "name": "stdout",
          "text": [
            "I am AnimI am Anim\n"
          ]
        }
      ]
    },
    {
      "cell_type": "code",
      "source": [
        "my_set={2,3,4,5,1,3,5,8,9,0,6}\n",
        "your_set={1,2,8,5,79,2,97,36,5,38,1,9,4}\n",
        "\n",
        "type(my_set)"
      ],
      "metadata": {
        "colab": {
          "base_uri": "https://localhost:8080/"
        },
        "id": "IeysZsNYBA6P",
        "outputId": "1e83dc68-09cc-4883-c6e0-d05babc334d2"
      },
      "execution_count": 8,
      "outputs": [
        {
          "output_type": "execute_result",
          "data": {
            "text/plain": [
              "set"
            ]
          },
          "metadata": {},
          "execution_count": 8
        }
      ]
    },
    {
      "cell_type": "code",
      "source": [
        "print(my_set & your_set)"
      ],
      "metadata": {
        "colab": {
          "base_uri": "https://localhost:8080/"
        },
        "id": "jCTsjKWSRuZX",
        "outputId": "5d791255-1750-4d2d-f294-6c570db81970"
      },
      "execution_count": 11,
      "outputs": [
        {
          "output_type": "stream",
          "name": "stdout",
          "text": [
            "{1, 2, 4, 5, 8, 9}\n"
          ]
        }
      ]
    },
    {
      "cell_type": "code",
      "source": [
        "asterik=[1,2,3,4,5,6,7]\n",
        "\n",
        "for i in asterik:\n",
        "  print(\"* *\" +  \" \" \"* * *\")"
      ],
      "metadata": {
        "colab": {
          "base_uri": "https://localhost:8080/"
        },
        "id": "mOM2M4hnXYbl",
        "outputId": "75918064-1540-43d6-9957-c6c8c0f09ffc"
      },
      "execution_count": 19,
      "outputs": [
        {
          "output_type": "stream",
          "name": "stdout",
          "text": [
            "* * * * *\n",
            "* * * * *\n",
            "* * * * *\n",
            "* * * * *\n",
            "* * * * *\n",
            "* * * * *\n",
            "* * * * *\n"
          ]
        }
      ]
    },
    {
      "cell_type": "code",
      "source": [
        "type(asterik)"
      ],
      "metadata": {
        "colab": {
          "base_uri": "https://localhost:8080/"
        },
        "id": "2_NUESGlbCoc",
        "outputId": "8bb817f4-008a-4305-eb00-c313f8a03f25"
      },
      "execution_count": 20,
      "outputs": [
        {
          "output_type": "execute_result",
          "data": {
            "text/plain": [
              "list"
            ]
          },
          "metadata": {},
          "execution_count": 20
        }
      ]
    },
    {
      "cell_type": "code",
      "source": [
        "my_scoop={'name':'Anim','age':35,'fav beer':['corona','bud','Tub'],'weight':140}\n",
        "print(my_scoop)"
      ],
      "metadata": {
        "colab": {
          "base_uri": "https://localhost:8080/"
        },
        "id": "ILQpV-OYbrZ_",
        "outputId": "5fa09e83-a71d-49d7-e982-ef3091addba4"
      },
      "execution_count": 21,
      "outputs": [
        {
          "output_type": "stream",
          "name": "stdout",
          "text": [
            "{'name': 'Anim', 'age': 35, 'fav beer': ['corona', 'bud', 'Tub'], 'weight': 140}\n"
          ]
        }
      ]
    },
    {
      "cell_type": "code",
      "source": [
        " for a,b in my_scoop.items():\n",
        "  print(a,\"-->\",b)"
      ],
      "metadata": {
        "colab": {
          "base_uri": "https://localhost:8080/"
        },
        "id": "EczwtmFrcxKT",
        "outputId": "1091c7bc-1d77-4a1c-bcc3-703f1a468f64"
      },
      "execution_count": 23,
      "outputs": [
        {
          "output_type": "stream",
          "name": "stdout",
          "text": [
            "name --> Anim\n",
            "age --> 35\n",
            "fav beer --> ['corona', 'bud', 'Tub']\n",
            "weight --> 140\n"
          ]
        }
      ]
    },
    {
      "cell_type": "code",
      "source": [
        "for a in my_scoop.values():\n",
        "  print(a)"
      ],
      "metadata": {
        "colab": {
          "base_uri": "https://localhost:8080/"
        },
        "id": "6r2YcYszc57z",
        "outputId": "1c54ba7f-867f-4e21-e4c5-ce45bd444a2b"
      },
      "execution_count": 24,
      "outputs": [
        {
          "output_type": "stream",
          "name": "stdout",
          "text": [
            "Anim\n",
            "35\n",
            "['corona', 'bud', 'Tub']\n",
            "140\n"
          ]
        }
      ]
    }
  ]
}